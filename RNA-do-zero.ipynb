{
 "cells": [
  {
   "cell_type": "markdown",
   "id": "6300dd37-50e7-403d-be2b-dfa63cf38752",
   "metadata": {},
   "source": [
    "### Rede Neural RNA\n",
    "![Texto Alternativo](rna.png)"
   ]
  },
  {
   "cell_type": "code",
   "execution_count": 2,
   "id": "116da177-0c5b-4fad-84d3-60874782b462",
   "metadata": {},
   "outputs": [],
   "source": [
    "import numpy as np\n",
    "import matplotlib.pyplot as plt\n",
    "import sklearn.datasets as datasets\n",
    "import pandas as pd\n",
    "import pickle"
   ]
  },
  {
   "cell_type": "code",
   "execution_count": 104,
   "id": "93784530-a0fd-4479-b69e-a59ba51ceeff",
   "metadata": {},
   "outputs": [
    {
     "name": "stdout",
     "output_type": "stream",
     "text": [
      "Requirement already satisfied: scikit-learn in /home/wsantos/wsantos/lib/python3.8/site-packages (1.3.2)\n",
      "Requirement already satisfied: numpy<2.0,>=1.17.3 in /home/wsantos/wsantos/lib/python3.8/site-packages (from scikit-learn) (1.24.4)\n",
      "Requirement already satisfied: scipy>=1.5.0 in /home/wsantos/wsantos/lib/python3.8/site-packages (from scikit-learn) (1.10.1)\n",
      "Requirement already satisfied: joblib>=1.1.1 in /home/wsantos/wsantos/lib/python3.8/site-packages (from scikit-learn) (1.3.2)\n",
      "Requirement already satisfied: threadpoolctl>=2.0.0 in /home/wsantos/wsantos/lib/python3.8/site-packages (from scikit-learn) (3.2.0)\n"
     ]
    }
   ],
   "source": [
    "!pip install scikit-learn"
   ]
  },
  {
   "cell_type": "markdown",
   "id": "2337e5b5-46a0-44ad-aca0-23f6082973ac",
   "metadata": {},
   "source": [
    "### Dataset"
   ]
  },
  {
   "cell_type": "code",
   "execution_count": 1,
   "id": "6887e66d-ffd7-4020-b710-628812ca5c30",
   "metadata": {},
   "outputs": [
    {
     "ename": "NameError",
     "evalue": "name 'plt' is not defined",
     "output_type": "error",
     "traceback": [
      "\u001b[0;31m---------------------------------------------------------------------------\u001b[0m",
      "\u001b[0;31mNameError\u001b[0m                                 Traceback (most recent call last)",
      "Cell \u001b[0;32mIn[1], line 1\u001b[0m\n\u001b[0;32m----> 1\u001b[0m \u001b[43mplt\u001b[49m\u001b[38;5;241m.\u001b[39mrcParams[\u001b[38;5;124m'\u001b[39m\u001b[38;5;124mfigure.figsize\u001b[39m\u001b[38;5;124m'\u001b[39m] \u001b[38;5;241m=\u001b[39m (\u001b[38;5;241m6\u001b[39m,\u001b[38;5;241m3\u001b[39m)\n",
      "\u001b[0;31mNameError\u001b[0m: name 'plt' is not defined"
     ]
    }
   ],
   "source": [
    "plt.rcParams['figure.figsize'] = (6,3)"
   ]
  },
  {
   "cell_type": "code",
   "execution_count": 106,
   "id": "ad50c109-2fbd-4b78-8de5-6c018854cf84",
   "metadata": {},
   "outputs": [],
   "source": [
    "x, y = datasets.make_moons(n_samples = 500, noise = 0.03)"
   ]
  },
  {
   "cell_type": "code",
   "execution_count": 107,
   "id": "8e895b07-61f3-48f6-975f-8a920d6e7c71",
   "metadata": {},
   "outputs": [
    {
     "data": {
      "text/plain": [
       "((500, 2), (500,))"
      ]
     },
     "execution_count": 107,
     "metadata": {},
     "output_type": "execute_result"
    }
   ],
   "source": [
    "x.shape, y.shape"
   ]
  },
  {
   "cell_type": "code",
   "execution_count": 108,
   "id": "6fa5def4-c7cb-4cf2-8f06-6552f557d1a7",
   "metadata": {},
   "outputs": [
    {
     "data": {
      "text/html": [
       "<div>\n",
       "<style scoped>\n",
       "    .dataframe tbody tr th:only-of-type {\n",
       "        vertical-align: middle;\n",
       "    }\n",
       "\n",
       "    .dataframe tbody tr th {\n",
       "        vertical-align: top;\n",
       "    }\n",
       "\n",
       "    .dataframe thead th {\n",
       "        text-align: right;\n",
       "    }\n",
       "</style>\n",
       "<table border=\"1\" class=\"dataframe\">\n",
       "  <thead>\n",
       "    <tr style=\"text-align: right;\">\n",
       "      <th></th>\n",
       "      <th>$x_1$</th>\n",
       "      <th>$x_2$</th>\n",
       "      <th>$y$</th>\n",
       "    </tr>\n",
       "  </thead>\n",
       "  <tbody>\n",
       "    <tr>\n",
       "      <th>0</th>\n",
       "      <td>0.808035</td>\n",
       "      <td>0.570955</td>\n",
       "      <td>0</td>\n",
       "    </tr>\n",
       "    <tr>\n",
       "      <th>1</th>\n",
       "      <td>0.616959</td>\n",
       "      <td>-0.426570</td>\n",
       "      <td>1</td>\n",
       "    </tr>\n",
       "    <tr>\n",
       "      <th>2</th>\n",
       "      <td>-0.287799</td>\n",
       "      <td>0.945089</td>\n",
       "      <td>0</td>\n",
       "    </tr>\n",
       "    <tr>\n",
       "      <th>3</th>\n",
       "      <td>1.886978</td>\n",
       "      <td>0.046062</td>\n",
       "      <td>1</td>\n",
       "    </tr>\n",
       "    <tr>\n",
       "      <th>4</th>\n",
       "      <td>-0.801761</td>\n",
       "      <td>0.565146</td>\n",
       "      <td>0</td>\n",
       "    </tr>\n",
       "    <tr>\n",
       "      <th>...</th>\n",
       "      <td>...</td>\n",
       "      <td>...</td>\n",
       "      <td>...</td>\n",
       "    </tr>\n",
       "    <tr>\n",
       "      <th>495</th>\n",
       "      <td>0.009316</td>\n",
       "      <td>0.440966</td>\n",
       "      <td>1</td>\n",
       "    </tr>\n",
       "    <tr>\n",
       "      <th>496</th>\n",
       "      <td>0.553575</td>\n",
       "      <td>-0.387295</td>\n",
       "      <td>1</td>\n",
       "    </tr>\n",
       "    <tr>\n",
       "      <th>497</th>\n",
       "      <td>-0.951959</td>\n",
       "      <td>0.341620</td>\n",
       "      <td>0</td>\n",
       "    </tr>\n",
       "    <tr>\n",
       "      <th>498</th>\n",
       "      <td>1.930896</td>\n",
       "      <td>0.117708</td>\n",
       "      <td>1</td>\n",
       "    </tr>\n",
       "    <tr>\n",
       "      <th>499</th>\n",
       "      <td>-0.886794</td>\n",
       "      <td>0.428302</td>\n",
       "      <td>0</td>\n",
       "    </tr>\n",
       "  </tbody>\n",
       "</table>\n",
       "<p>500 rows × 3 columns</p>\n",
       "</div>"
      ],
      "text/plain": [
       "        $x_1$     $x_2$  $y$\n",
       "0    0.808035  0.570955    0\n",
       "1    0.616959 -0.426570    1\n",
       "2   -0.287799  0.945089    0\n",
       "3    1.886978  0.046062    1\n",
       "4   -0.801761  0.565146    0\n",
       "..        ...       ...  ...\n",
       "495  0.009316  0.440966    1\n",
       "496  0.553575 -0.387295    1\n",
       "497 -0.951959  0.341620    0\n",
       "498  1.930896  0.117708    1\n",
       "499 -0.886794  0.428302    0\n",
       "\n",
       "[500 rows x 3 columns]"
      ]
     },
     "execution_count": 108,
     "metadata": {},
     "output_type": "execute_result"
    }
   ],
   "source": [
    "# A partir dos valores de x, vamos tentar prever se uma nova entrada pertence à classe 0 ou à classe 1\n",
    "pd.DataFrame({rf'$x_1$': x[:,0], rf'$x_2$':x[:,1], rf'$y$':y})"
   ]
  },
  {
   "cell_type": "code",
   "execution_count": 109,
   "id": "66f51984-6884-4b10-9c4a-424d6b49e003",
   "metadata": {},
   "outputs": [
    {
     "data": {
      "text/plain": [
       "(array([0, 1]), array([250, 250]))"
      ]
     },
     "execution_count": 109,
     "metadata": {},
     "output_type": "execute_result"
    }
   ],
   "source": [
    "unique = np.unique(y, return_counts=True) # Valores únicos e contagem dos valores \n",
    "unique"
   ]
  },
  {
   "cell_type": "code",
   "execution_count": 110,
   "id": "fc64045a-34e4-400c-9c1e-d4f3cb41f021",
   "metadata": {},
   "outputs": [
    {
     "name": "stdout",
     "output_type": "stream",
     "text": [
      "Label: 0\t Counts: 250\n",
      "Label: 1\t Counts: 250\n"
     ]
    }
   ],
   "source": [
    "for label, qt_label in zip(unique[0], unique[1]):\n",
    "    print(f'Label: {label}\\t Counts: {qt_label}')"
   ]
  },
  {
   "cell_type": "code",
   "execution_count": 120,
   "id": "da6ea079-6c11-49d8-94ae-623604e3d8d3",
   "metadata": {},
   "outputs": [
    {
     "data": {
      "image/png": "[encoded data removed]",
      "text/plain": [
       "<Figure size 600x300 with 1 Axes>"
      ]
     },
     "metadata": {},
     "output_type": "display_data"
    }
   ],
   "source": [
    "plt.scatter(x[:,0], x[:, 1], c = y, s = 15, alpha = 0.3, marker = '.', cmap = 'ocean');"
   ]
  },
  {
   "cell_type": "markdown",
   "id": "b6aa4a6d-f497-42b6-89be-8b1104806651",
   "metadata": {},
   "source": [
    "# Modelo\n",
    "Dado um novo ponto, o objetivo é classificá-lo em uma das duas classes: verde ou branco\n",
    "- Inicialização dos pesos e bias\n",
    "- Feedfoward\n",
    "- Cálculo de perda\n",
    "- Backpropagation\n",
    "- Fit"
   ]
  },
  {
   "cell_type": "code",
   "execution_count": 129,
   "id": "a49f372e-1cc5-4e65-aa71-50fd0c0cf611",
   "metadata": {},
   "outputs": [],
   "source": [
    "class NnModel:\n",
    "    def __init__(self, x: np.ndarray, y: np.ndarray, hidden_neurons: int = 10, output_neurons: int = 2):\n",
    "        np.random.seed(22)\n",
    "        self.x = x\n",
    "        self.y = y\n",
    "        self.hidden_neurons = hidden_neurons\n",
    "        self.output_neurons = output_neurons\n",
    "        self.input_neurons = self.x.shape[1]\n",
    "\n",
    "        # Inicializa os pesos e bias\n",
    "        # Xavier Inicialization -> variância dos pesos igual em todas as camadas\n",
    "        self.W1 = np.random.randn(self.input_neurons, self.hidden_neurons) / np.sqrt(self.input_neurons) # pesos da primeira camada\n",
    "        self.B1 = np.zeros((1, self.hidden_neurons)) # Bias 1\n",
    "        self.W2 = np.random.randn(self.input_neurons, self.hidden_neurons) / np.sqrt(self.hidden_neurons) # pesos da segunda camada\n",
    "        self.B2 = np.zeros((1, self.output_neurons)) # Bias 2\n",
    "        self.model_dict = {rf'$W_1$': self.W1, rf'$B_1$': self.B1, rf'$W_2$': self.W2, rf'$B_2$': self.B2}\n",
    "    def foward(self):\n",
    "        pass\n",
    "    def loss(self):\n",
    "        pass\n",
    "    def backpropagation(self):\n",
    "        pass\n",
    "    def fit(self):\n",
    "        pass\n",
    "            "
   ]
  },
  {
   "cell_type": "code",
   "execution_count": 130,
   "id": "3e2c2298-6ea8-4d15-9cec-2b0e10ce4230",
   "metadata": {},
   "outputs": [
    {
     "data": {
      "text/plain": [
       "array([[-0.06501841, -1.03474517,  0.76494223, -0.16922845, -0.34728074,\n",
       "        -0.70871334,  0.64970492, -0.78038574,  0.44299777, -0.3970502 ,\n",
       "         0.02040365, -0.16317704],\n",
       "       [ 0.41560358,  0.53196886, -0.74847433,  0.74668525,  0.52873928,\n",
       "         0.75284004,  1.07489394, -1.05260123,  1.31521147, -1.13039011,\n",
       "        -0.45684303,  0.2385248 ]])"
      ]
     },
     "execution_count": 130,
     "metadata": {},
     "output_type": "execute_result"
    }
   ],
   "source": [
    "modelo = NnModel(x, y, 12, 2)\n",
    "modelo.model_dict['$W_1$']"
   ]
  }
 ],
 "metadata": {
  "kernelspec": {
   "display_name": "Python 3 (ipykernel)",
   "language": "python",
   "name": "python3"
  },
  "language_info": {
   "codemirror_mode": {
    "name": "ipython",
    "version": 3
   },
   "file_extension": ".py",
   "mimetype": "text/x-python",
   "name": "python",
   "nbconvert_exporter": "python",
   "pygments_lexer": "ipython3",
   "version": "3.8.10"
  }
 },
 "nbformat": 4,
 "nbformat_minor": 5
}
